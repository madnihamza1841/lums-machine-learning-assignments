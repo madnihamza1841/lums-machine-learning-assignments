{
 "cells": [
  {
   "cell_type": "code",
   "execution_count": 26,
   "metadata": {},
   "outputs": [],
   "source": [
    "import os\n",
    "import numpy as np\n",
    "from matplotlib import pyplot\n",
    "%matplotlib inline"
   ]
  },
  {
   "cell_type": "code",
   "execution_count": 27,
   "metadata": {},
   "outputs": [],
   "source": [
    "pos = open(\"positive-words.txt\",\"r\").readlines()\n",
    "for  i in range(len(pos)):\n",
    "    pos[i] = pos[i].strip(\"\\n\")\n",
    "#print(pos)\n",
    "neg = open(\"negative-words.txt\",\"r\").readlines()\n",
    "for l in range (len(neg)):\n",
    "    neg[l] = neg[l].strip(\"\\n\")\n",
    "#print(neg)   \n"
   ]
  },
  {
   "cell_type": "code",
   "execution_count": 28,
   "metadata": {},
   "outputs": [],
   "source": [
    " def features(filz):\n",
    "    fil = open(filz,encoding = \"ISO-8859-1\").read()\n",
    "    #print(fil)\n",
    "    \n",
    "    x1 = 0\n",
    "    x2 = 0\n",
    "    for i in pos:\n",
    "        x1 += str(fil).count(i)\n",
    "    #print(x1)\n",
    "    for j in neg:\n",
    "        x2 += str(fil).count(j)\n",
    "    #print(x2)\n",
    "    l = filz.split('/')\n",
    "    #print(l)\n",
    "    f3 = l[-1]\n",
    "    x3 = int(f3[2]) # isko theek karo\n",
    "    #print(x3)\n",
    "    from collections import Counter\n",
    "    r = str(fil)\n",
    "    wordcount = r.split()\n",
    "    xx = len(wordcount)\n",
    "    #print(xx)\n",
    "    import math\n",
    "    x4 = math.log(xx,10)\n",
    "    #print(x4)\n",
    "    x5 = 0\n",
    "    x6 = 0\n",
    "    y = 0\n",
    "    if 'no' in fil:\n",
    "        x5 = 1\n",
    "    else:\n",
    "        x5 = 0\n",
    "    #print(x5)    \n",
    "    if '!' in fil:\n",
    "        x6 = 1\n",
    "    else:\n",
    "        x6 = 0 \n",
    "    #print(x6)    \n",
    "    if 'pos' in l:\n",
    "        y = 1\n",
    "    else:\n",
    "        y = 0\n",
    "    #print(y)\n",
    "    return x1,x2,x3,x4,x5,x6,y"
   ]
  },
  {
   "cell_type": "code",
   "execution_count": 29,
   "metadata": {},
   "outputs": [
    {
     "data": {
      "text/plain": [
       "(9, 15, 3, 2.049218022670181, 1, 0, 0)"
      ]
     },
     "execution_count": 29,
     "metadata": {},
     "output_type": "execute_result"
    }
   ],
   "source": [
    "features(\"./Dataset/train/neg/0_3.txt\")"
   ]
  },
  {
   "cell_type": "code",
   "execution_count": 30,
   "metadata": {},
   "outputs": [
    {
     "name": "stdout",
     "output_type": "stream",
     "text": [
      "C:\\Users\\Fatima-\\OneDrive\\Machine learning\n",
      "C:\\Users\\Fatima-\\OneDrive\\Machine learning\\Dataset\\train\\neg\n",
      "C:\\Users\\Fatima-\\OneDrive\\Machine learning\\Dataset\\train\\pos\n",
      "C:\\Users\\Fatima-\\OneDrive\\Machine learning\\Dataset\\test\\neg\n",
      "C:\\Users\\Fatima-\\OneDrive\\Machine learning\\Dataset\\test\\pos\n",
      "[(10, 12, 2, 2.2253092817258624, 1, 0, 0), (12, 18, 3, 2.1003705451175625, 1, 1, 0), (10, 20, 3, 2.4132997640812515, 1, 0, 0), (12, 9, 4, 2.2121876044039577, 1, 0, 0), (4, 8, 1, 2.181843587944772, 1, 0, 1), (9, 9, 1, 2.143014800254095, 1, 1, 1), (22, 22, 7, 2.488550716500444, 1, 1, 1), (22, 16, 7, 2.4313637641589874, 1, 1, 1)]\n"
     ]
    }
   ],
   "source": [
    "import os\n",
    "import glob\n",
    "print(os.getcwd())\n",
    "os.chdir('C:/Users/Fatima-/OneDrive/Machine learning/Dataset/train/neg')\n",
    "print(os.getcwd())\n",
    "train1 = glob.glob('*.txt')\n",
    "for i in range (len(train1)):\n",
    "    train1[i] = './Dataset/train/neg/' + train1[i]    \n",
    "os.chdir('C:/Users/Fatima-/OneDrive/Machine learning/Dataset/train/pos')\n",
    "print(os.getcwd())\n",
    "train2 = glob.glob('*.txt')\n",
    "for i in range (len(train2)):\n",
    "    train2[i] = './Dataset/train/pos/' + train2[i]   \n",
    "train = train1 + train2\n",
    "os.chdir('C:/Users/Fatima-/OneDrive/Machine learning/Dataset/test/neg')\n",
    "print(os.getcwd())\n",
    "test1 = glob.glob('*.txt')\n",
    "for i in range (len(test1)):\n",
    "    test1[i] = './Dataset/test/neg/' + test1[i]    \n",
    "os.chdir('C:/Users/Fatima-/OneDrive/Machine learning/Dataset/test/pos')\n",
    "print(os.getcwd())\n",
    "test2 = glob.glob('*.txt')\n",
    "for i in range (len(test2)):\n",
    "    test2[i] = './Dataset/test/pos/' + test2[i]   \n",
    "test = test1 + test2\n",
    "testx=[]\n",
    "os.chdir('C:/Users/Fatima-/OneDrive/Machine learning')\n",
    "for i in test:\n",
    "    testx.append(features(i))\n",
    "print(testx)  \n",
    "trainx = []\n",
    "os.chdir('C:/Users/Fatima-/OneDrive/Machine learning')\n",
    "for i in train:\n",
    "    trainx.append(features(i))\n",
    "#print(trainx)  "
   ]
  },
  {
   "cell_type": "code",
   "execution_count": 31,
   "metadata": {},
   "outputs": [],
   "source": [
    "def predict(X,theta, theta0):\n",
    "    #print(X.shape)\n",
    "    #print(theta.shape)\n",
    "    #print(np.dot(X,theta).shape)\n",
    "    h_x = 0.0\n",
    "    \n",
    "    h_x = theta0 + np.dot(X,theta)\n",
    "    \n",
    "    sig = 1/(1+np.exp(-h_x))\n",
    "    \n",
    "    return sig"
   ]
  },
  {
   "cell_type": "code",
   "execution_count": 32,
   "metadata": {},
   "outputs": [],
   "source": [
    "def computeCost(X, Y, theta, theta0):\n",
    "    import math\n",
    "    m = Y.size  \n",
    "    J = 0\n",
    "    A = 1/(m)\n",
    "    l = np.sum(Y*np.log(predict(X,theta,theta0)) + (1-Y)*(np.log(1-(predict(X,theta,theta0)))))\n",
    "    J = -A*l\n",
    "    return J"
   ]
  },
  {
   "cell_type": "code",
   "execution_count": 33,
   "metadata": {},
   "outputs": [],
   "source": [
    "def gradientDescent(X, Y, alpha, n_epoch):\n",
    "    m = Y.size \n",
    "    J = list()  \n",
    "    \n",
    "    theta0 =0\n",
    "    theta = np.zeros(6)\n",
    "    f = len(theta)\n",
    "   \n",
    "    for epoch in range(n_epoch):\n",
    "        #print(epoch)\n",
    "        #print(X.shape)\n",
    "        #print(theta.shape)\n",
    "        ll = predict(X,theta,theta0)\n",
    "        theta0 = theta0 - (alpha)*(ll-Y)\n",
    "        for i in range(f):\n",
    "            theta[i] = theta[i] - (alpha)*np.dot(X[:,i].T,  ll - Y)\n",
    "\n",
    "        J.append(computeCost(X, Y, theta, theta0))\n",
    "    return theta0, theta, J"
   ]
  },
  {
   "cell_type": "code",
   "execution_count": 34,
   "metadata": {},
   "outputs": [
    {
     "name": "stdout",
     "output_type": "stream",
     "text": [
      "[-0.08938817 -0.01493467 -0.03723764 -0.01250269  0.04348818  0.03738943\n",
      "  0.03615898  0.11360191] [-0.03591345 -0.19430795  0.72180481  0.14777055  0.03308715  0.2306385 ] 0.14840960841685666\n"
     ]
    }
   ],
   "source": [
    "n_epoch = 3500\n",
    "alpha = 0.00007 \n",
    "trainx = np.array(trainx)\n",
    "X = trainx[:,:-1]\n",
    "#print(X)\n",
    "Y = trainx[:,-1]\n",
    "#print(Y)\n",
    "theta0, theta, J = gradientDescent(X,Y, alpha, n_epoch)\n",
    "#print(J)\n",
    "print(theta0, theta, J[-1])"
   ]
  },
  {
   "cell_type": "code",
   "execution_count": 38,
   "metadata": {},
   "outputs": [
    {
     "name": "stdout",
     "output_type": "stream",
     "text": [
      "For part a\n",
      "[0.27394744 0.23077751 0.15091854 0.74172754 0.35954834 0.32466867\n",
      " 0.65822226 0.86878085]\n",
      "2.375\n",
      "0.6666666666666666\n",
      "0.5\n",
      "0.5714285714285715\n"
     ]
    }
   ],
   "source": [
    "testx = np.array(testx)\n",
    "X_t = testx[:,:-1]\n",
    "Y_t = testx[:,-1]\n",
    "print('For part a' % (predict(X_t,theta, theta0)))\n",
    "print(predict(X_t,theta, theta0))\n",
    "m =[]\n",
    "m = predict(X_t,theta,theta0)\n",
    "for i in range (len(m)):\n",
    "    if m[i] > 0.5:\n",
    "        m[i] = 1\n",
    "    else:\n",
    "        m[i] = 0\n",
    "count = 0\n",
    "truep = 0\n",
    "falsep = 0\n",
    "truen = 0\n",
    "falsen = 0\n",
    "for i in range (len(m)):\n",
    "    if m[i] == Y_t[i] and Y_t[i]== 1:\n",
    "        truep = truep +1  \n",
    "    elif m[i]  == Y_t[i] and Y_t[i] == 0:\n",
    "        truen = truen+1\n",
    "    elif m[i] != Y_t[i]  and Y_t[i] == 1:\n",
    "        falsen = falsen+1\n",
    "    elif m[i]!= Y_t[i]  and Y_t[i] == 0:\n",
    "        falsep = falsep +1\n",
    "accuracy = truep+truen/(truep+truen+falsep+falsen)\n",
    "print(accuracy)  \n",
    "precision = truep/(truep+falsep)\n",
    "recall = truep/(truep+falsen)\n",
    "F1 = 2*((precision*recall)/(precision+recall))\n",
    "print(precision)\n",
    "print(recall)\n",
    "print(F1)"
   ]
  },
  {
   "cell_type": "code",
   "execution_count": null,
   "metadata": {},
   "outputs": [],
   "source": []
  }
 ],
 "metadata": {
  "kernelspec": {
   "display_name": "Python 3",
   "language": "python",
   "name": "python3"
  },
  "language_info": {
   "codemirror_mode": {
    "name": "ipython",
    "version": 3
   },
   "file_extension": ".py",
   "mimetype": "text/x-python",
   "name": "python",
   "nbconvert_exporter": "python",
   "pygments_lexer": "ipython3",
   "version": "3.6.9"
  }
 },
 "nbformat": 4,
 "nbformat_minor": 4
}
