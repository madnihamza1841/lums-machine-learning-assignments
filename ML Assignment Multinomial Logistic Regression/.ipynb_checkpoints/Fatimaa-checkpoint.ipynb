{
 "cells": [
  {
   "cell_type": "code",
   "execution_count": 1,
   "metadata": {},
   "outputs": [],
   "source": [
    "import pandas as pd\n",
    "import numpy as np\n",
    "import math\n",
    "Tweet = pd.read_csv(\"Tweets.csv\")\n",
    "#print(Tweet[\"text\"])\n",
    "bag = {}\n",
    "stopwords = ['i','in', 'me', 'my', 'myself', 'we', 'our', 'ours', 'ourselves', 'you', \"you're\", \"you've\", \"you'll\", \"you'd\", 'your', 'yours', 'yourself', 'yourselves', 'he', 'him', 'his', 'himself', 'she', \"she's\", 'her', 'hers', 'herself', 'it', \"it's\", 'its', 'itself', 'they', 'them', 'their', 'theirs', 'themselves', 'what', 'which', 'who', 'whom', 'this', 'that', \"that'll\", 'these', 'those', 'am', 'is', 'are', 'was', 'were', 'be', 'been', 'being', 'have', 'has', 'had', 'having', 'do', 'does', 'did', 'doing', 'a', 'an', 'the', 'and', 'but', 'if', 'or', 'because', 'as', 'until', 'while', 'of', 'at', 'by', 'for', 'with', 'about', 'against', 'between', 'into', 'through', 'during', 'before', 'after', 'above', 'below', 'to', 'from', 'up', 'down', 'in', 'out', 'on', 'off', 'over', 'under', 'again', 'further', 'then', 'once', 'here', 'there', 'when', 'where', 'why', 'how', 'all', 'any', 'both', 'each', 'few', 'more', 'most', 'other', 'some', 'such', 'no', 'nor', 'not', 'only', 'own', 'same', 'so', 'than', 'too', 'very', 's', 't', 'can', 'will', 'just', 'don', \"don't\", 'should', \"should've\", 'now', 'd', 'll', 'm', 'o', 're', 've', 'y', 'ain', 'aren', \"aren't\", 'couldn', \"couldn't\", 'didn', \"didn't\", 'doesn', \"doesn't\", 'hadn', \"hadn't\", 'hasn', \"hasn't\", 'haven', \"haven't\", 'isn', \"isn't\", 'ma', 'mightn', \"mightn't\", 'mustn', \"mustn't\", 'needn', \"needn't\", 'shan', \"shan't\", 'shouldn', \"shouldn't\", 'wasn', \"wasn't\", 'weren', \"weren't\", 'won', \"won't\", 'wouldn', \"wouldn't\"]"
   ]
  },
  {
   "cell_type": "code",
   "execution_count": 2,
   "metadata": {},
   "outputs": [],
   "source": [
    "for i in Tweet[\"text\"]:\n",
    "        i = i.lower()\n",
    "        i = i.replace(\",\", \" \")\n",
    "        i = i.replace(\".\", \" \")\n",
    "        i = i.replace(\"?\", \" \")\n",
    "        i = i.split(\" \")\n",
    "    #replace stop words too make a list and copare if not in both lists then put in the bag \n",
    "        for x in i:\n",
    "            if x not in bag and x not in stopwords:\n",
    "                bag[x] = 0\n",
    "#print(bag)"
   ]
  },
  {
   "cell_type": "code",
   "execution_count": 3,
   "metadata": {},
   "outputs": [],
   "source": [
    "def Dictionarywords(Data):\n",
    "    for i in Data[\"text\"]:\n",
    "        i = i.lower()\n",
    "        i = i.replace(\",\", \" \")\n",
    "        i = i.replace(\".\", \" \")\n",
    "        i = i.replace(\"?\", \" \")\n",
    "        i = i.split(\" \")\n",
    "    #replace stop words too make a list and copare if not in both lists then put in the bag \n",
    "        for x in i:\n",
    "            if x not in bag and x not in stopwords:\n",
    "                bag[x] = 0\n",
    "\n",
    "#############################                \n",
    "    features =[]\n",
    "    for i in Data[\"text\"]:\n",
    "        tempbag = bag.copy()\n",
    "        i = i.lower()\n",
    "        i = i.replace(\",\", \" \")\n",
    "        i = i.replace(\".\", \" \")\n",
    "        i = i.replace(\"?\", \" \")\n",
    "        i = i.split(\" \")\n",
    "    #replace stop words too make a list and compare if not in both lists then put in the bag \n",
    "        for x in i:\n",
    "            if x in tempbag:\n",
    "                tempbag[x] += 1\n",
    "        features.append(list(tempbag.values()))\n",
    "    #print(features)\n",
    "############################    \n",
    " \n",
    "    label = []\n",
    "    count = 0\n",
    "    for i in Data[\"airline_sentiment\"]:\n",
    "        if i == \"negative\":\n",
    "            count = -1\n",
    "        elif i == \"positive\":\n",
    "            count = 1\n",
    "        elif i == \"neutral\":\n",
    "            count = 0\n",
    "        label.append(count)    \n",
    "    #print(label)   \n",
    "    \n",
    "#############################    \n",
    "    pos_feat = []\n",
    "    pos_label= []\n",
    "    neg_feat=  []\n",
    "    neg_label= []\n",
    "    neut_feat= []\n",
    "    neut_label=[]\n",
    "    for i in range(len(label)):\n",
    "        if label[i] == -1:\n",
    "            neg_label.append([0,1,0])\n",
    "            neg_feat.append(features[i])\n",
    "        elif label[i] == 1:\n",
    "            pos_label.append([1,0,0])\n",
    "            pos_feat.append(features[i])\n",
    "        elif label[i] == 0:\n",
    "            neut_label.append([0,0,1])\n",
    "            neut_feat.append(features[i])\n",
    "    #print(pos_label)\n",
    "    ####using int below because the data set is small and the 0.8 of small valuesthat is less than 10 will give valye in points \n",
    "    ####for the indices, for the entire dataset you do not need to add the int wali cheez\n",
    "    Train_feat = pos_feat[:int(0.8*len(pos_feat))] + neg_feat[:int(0.8*len(neg_feat))] + neut_feat[:int(0.8*len(neut_feat))]\n",
    "    Train_label= pos_label[:int(0.8*len(pos_label))] + neg_label[:int(0.8*len(neg_label))] + neut_label[:int(0.8*len(neut_label))]\n",
    "    #print((np.array(Train_feat)).shape)\n",
    "    #print(np.array(Train_label).shape)\n",
    "    Train_feat = np.array(Train_feat)\n",
    "    Train_label = np.array(Train_label)\n",
    "    #Train_label = Train_label.T\n",
    "    Test_feat = pos_feat[int(0.8*len(pos_feat)):] + neg_feat[int(0.8*len(neg_feat)):] + neut_feat[int(0.8*len(neut_feat)):]\n",
    "    Test_label = pos_label[int(0.8*len(pos_label)):] + neg_label[int(0.8*len(neg_label)):] + neut_label[int(0.8*len(neut_label)):]\n",
    "    #print(Test_feat)\n",
    "    Test_feat = np.array(Test_feat)\n",
    "    Test_label = np.array(Test_label)\n",
    "    #Test_label = Test_label.T\n",
    "    #print(Test_label.shape)\n",
    "    return Test_label,Test_feat, Train_label, Train_feat    "
   ]
  },
  {
   "cell_type": "code",
   "execution_count": null,
   "metadata": {},
   "outputs": [],
   "source": [
    "Test_label,Test_feat, Train_label, Train_feat = Dictionarywords(Tweet) "
   ]
  },
  {
   "cell_type": "code",
   "execution_count": null,
   "metadata": {},
   "outputs": [],
   "source": [
    "def predict(X,theta, theta0):\n",
    "    #print(X.shape) \n",
    "    #print(theta.shape)\n",
    "    #print(np.dot(X,theta).shape)\n",
    "    h_x = 0.0\n",
    "    \n",
    "    h_x = theta0 + np.dot(X,theta)\n",
    "    \n",
    "    softmax = np.exp(h_x.T) / np.sum(np.exp(h_x.T), axis=0)\n",
    "    softmax = softmax.T\n",
    "    return softmax"
   ]
  },
  {
   "cell_type": "code",
   "execution_count": 7,
   "metadata": {},
   "outputs": [],
   "source": [
    "def computeCost(X, Y, theta, theta0):\n",
    "    \n",
    "    m = Y.size  \n",
    "    A = 1/(m)\n",
    "    l = np.sum((Y)*(np.log((predict(X,theta,theta0)))))\n",
    "    J = -A*l\n",
    "    return J"
   ]
  },
  {
   "cell_type": "code",
   "execution_count": 12,
   "metadata": {},
   "outputs": [],
   "source": [
    "def gradientDescent(X, Y, alpha, n_epoch):\n",
    "    m = Y.size \n",
    "    J = list()  \n",
    "    \n",
    "    theta0 =np.array(np.zeros(3))\n",
    "    theta = np.array(np.zeros([len(bag),3]))\n",
    "    f = len(theta)\n",
    "   \n",
    "    for epoch in range(n_epoch):\n",
    "        #print(epoch)\n",
    "       #print(X.shape)\n",
    "        #print(Y.shape)\n",
    "        #print(theta0.shape)\n",
    "        #print(theta.shape)\n",
    "        for i in range(0,len(X),32):\n",
    "            ll = predict(X[i:i+32],theta,theta0)\n",
    "            #print(ll.shape)\n",
    "            theta0 = theta0 - (alpha)*( ll-Y[i:i+32])\n",
    "            theta= theta- (alpha)*(np.dot(X[i:i+32].T,  ll - Y[i:i+32]))\n",
    "        J.append(computeCost(X, Y, theta, theta0))\n",
    "    return theta0, theta, J"
   ]
  },
  {
   "cell_type": "code",
   "execution_count": 13,
   "metadata": {},
   "outputs": [
    {
     "name": "stdout",
     "output_type": "stream",
     "text": [
      "0.3046286056286929\n"
     ]
    }
   ],
   "source": [
    "n_epoch = 3500\n",
    "alpha = 0.000007 \n",
    "X = Train_feat\n",
    "#print(X)\n",
    "Y = Train_label\n",
    "\n",
    "theta0, theta, J = gradientDescent(Train_feat,Train_label, alpha, n_epoch)\n",
    "#print(J)\n",
    "print(J[-1])"
   ]
  },
  {
   "cell_type": "code",
   "execution_count": 186,
   "metadata": {},
   "outputs": [
    {
     "name": "stdout",
     "output_type": "stream",
     "text": [
      "50\n",
      "[[8.94679497e-04 1.79701181e-02 9.81135202e-01]\n",
      " [6.67641251e-03 2.45611490e-03 9.90867473e-01]]\n",
      "2.0\n"
     ]
    }
   ],
   "source": [
    "x = [[10,13,17],[2,1,7]]\n",
    "x = np.array(x)\n",
    "x = x.T\n",
    "print(np.sum(x))\n",
    "softmax = np.exp(x) / np.sum(np.exp(x), axis =0)\n",
    "print(softmax.T)\n",
    "print(np.sum(softmax))"
   ]
  },
  {
   "cell_type": "code",
   "execution_count": null,
   "metadata": {},
   "outputs": [],
   "source": []
  }
 ],
 "metadata": {
  "kernelspec": {
   "display_name": "Python 3",
   "language": "python",
   "name": "python3"
  },
  "language_info": {
   "codemirror_mode": {
    "name": "ipython",
    "version": 3
   },
   "file_extension": ".py",
   "mimetype": "text/x-python",
   "name": "python",
   "nbconvert_exporter": "python",
   "pygments_lexer": "ipython3",
   "version": "3.6.9"
  }
 },
 "nbformat": 4,
 "nbformat_minor": 4
}
