{
 "cells": [
  {
   "cell_type": "markdown",
   "metadata": {},
   "source": [
    "# Programming Assignment 1: Linear Regression\n",
    "\n",
    "## Introduction\n",
    "\n",
    "In this exercise, you will implement linear regression and get to see it work on data. After completing this assignment, you will know:\n",
    "- How to implement linear regression from scratch.\n",
    "- How to estimate linear regression parameters using gradient descent.\n",
    "- How to make predictions on new data using learned parameters.\n",
    "\n",
    "Let's start with the necessary imports."
   ]
  },
  {
   "cell_type": "code",
   "execution_count": 11,
   "metadata": {},
   "outputs": [],
   "source": [
    "import os\n",
    "import numpy as np\n",
    "from matplotlib import pyplot\n",
    "%matplotlib inline"
   ]
  },
  {
   "cell_type": "markdown",
   "metadata": {},
   "source": [
    "## 1. Linear Regression with one variable\n",
    "\n",
    "Linear regression assumes a linear relationship between the input variables (X) and the single output variable (Y). More specifically, that output (Y) can be calculated from a linear combination of the input variables (X). When there is a single input variable, the method is referred to as a simple linear regression.\n",
    "\n",
    "Now you will implement simple linear regression to predict profits for a food truck. Suppose you are the CEO of a restaurant franchise and are considering different cities for opening a new outlet. The chain already has trucks in various cities and you have data for profits and populations from the cities. You would like to use this data to help you select which city to expand to next."
   ]
  },
  {
   "cell_type": "markdown",
   "metadata": {},
   "source": [
    "### 1.1 Load the dataset\n",
    "\n",
    "The file `Data/ex1data1.txt` contains the dataset for our linear regression problem. The first column is the population of a city (in 10,000s) and the second column is the profit of a food truck in that city (in $10,000s). A negative value for profit indicates a loss. \n",
    "\n",
    "We provide you with the code needed to load this data. The dataset is loaded from the data file into the variables `X` and `Y`."
   ]
  },
  {
   "cell_type": "code",
   "execution_count": 12,
   "metadata": {},
   "outputs": [],
   "source": [
    "data = np.loadtxt(os.path.join('Data', 'ex1data1.txt'), delimiter=',')\n",
    "X, Y = data[:, 0], data[:, -1]"
   ]
  },
  {
   "cell_type": "code",
   "execution_count": 13,
   "metadata": {},
   "outputs": [
    {
     "name": "stdout",
     "output_type": "stream",
     "text": [
      "(97,)\n",
      "(97,)\n"
     ]
    }
   ],
   "source": [
    "# print(data)\n",
    "print(X.shape)\n",
    "print(Y.shape)"
   ]
  },
  {
   "cell_type": "markdown",
   "metadata": {},
   "source": [
    "### 1.2 Plot the dataset\n",
    "Before starting on any task, it is often useful to understand the data by visualizing it. For this dataset, you can use a scatter plot to visualize the data, since it has only two properties to plot (profit and population). Execute the next cell to visualize the data."
   ]
  },
  {
   "cell_type": "code",
   "execution_count": 14,
   "metadata": {},
   "outputs": [
    {
     "data": {
      "text/plain": [
       "Text(0.5, 0, 'Population of City in 10,000s')"
      ]
     },
     "execution_count": 14,
     "metadata": {},
     "output_type": "execute_result"
    },
    {
     "data": {
      "image/png": "[encoded data removed]",
      "text/plain": [
       "<Figure size 432x288 with 1 Axes>"
      ]
     },
     "metadata": {
      "needs_background": "light"
     },
     "output_type": "display_data"
    }
   ],
   "source": [
    "pyplot.plot(X, Y, 'ro', ms=10, mec='k')\n",
    "pyplot.ylabel('Profit in $10,000')\n",
    "pyplot.xlabel('Population of City in 10,000s')"
   ]
  },
  {
   "cell_type": "markdown",
   "metadata": {},
   "source": [
    "### 1.3 Learn the parameters\n",
    "In this part, you will fit the linear regression parameters $\\theta$ to the food truck dataset using gradient descent.\n",
    "\n",
    "The objective of linear regression is to minimize the cost function\n",
    "\n",
    "$$ J(\\theta) = \\frac{1}{2m} \\sum_{i=1}^m \\left( h_{\\theta}(x^{(i)}) - y^{(i)}\\right)^2 ------ (i)$$ \n",
    "\n",
    "where the hypothesis $h_\\theta(x)$ is given by the linear model\n",
    "$$ h_\\theta(x) = \\theta_0 + \\theta_1 x ------ (ii)$$\n",
    "\n",
    "The parameters of your model are the $\\theta_j$ values. These are\n",
    "the values you will adjust to minimize cost $J(\\theta)$. One way to do this is to\n",
    "use the batch gradient descent algorithm. In batch gradient descent, each\n",
    "iteration performs the update\n",
    "\n",
    "$$ \\theta_0 = \\theta_0 - \\alpha \\frac{1}{m} \\sum_{i=1}^m \\left( h_\\theta(x^{(i)}) - y^{(i)}\\right) ------ (iii)$$\n",
    "\n",
    "$$ \\theta_1 = \\theta_1 - \\alpha \\frac{1}{m} \\sum_{i=1}^m \\left( h_\\theta(x^{(i)}) - y^{(i)}\\right)x^{(i)} ------ (iv)$$\n",
    "\n",
    "With each step of gradient descent, your parameters $\\theta_j$ come closer to the optimal values that will achieve the lowest cost J($\\theta$).\n",
    "\n",
    "Let's start by implementing the hypothesis $h_\\theta(x)$."
   ]
  },
  {
   "cell_type": "code",
   "execution_count": 5,
   "metadata": {},
   "outputs": [],
   "source": [
    "### GRADED FUNCTION ###\n",
    "def predict(x, theta0, theta1):\n",
    "    '''\n",
    "    Calculates the hypothesis for any input sample `x` given the parameters `theta`.\n",
    "    \n",
    "    Arguments\n",
    "    ---------\n",
    "    x : float\n",
    "        The input sample.\n",
    "    \n",
    "    theta0 : float\n",
    "        The parameter for the regression function.\n",
    "        \n",
    "    theta1 : float\n",
    "        The parameter for the regression function.\n",
    "    \n",
    "    Returns\n",
    "    -------\n",
    "    h_x : float\n",
    "        The hypothesis for input sample.\n",
    "    \n",
    "    Hint(s)\n",
    "    -------\n",
    "    Compute equation (ii).\n",
    "    '''\n",
    "    # You need to return the following variable(s) correctly\n",
    "    h_x = theta0 + theta1*x\n",
    "    \n",
    "    ### START CODE HERE ### (≈ 1 line of code)\n",
    "\n",
    "    \n",
    "    ### END CODE HERE ###\n",
    "    \n",
    "    return h_x"
   ]
  },
  {
   "cell_type": "markdown",
   "metadata": {},
   "source": [
    "Execute the next cell to verify your implementation."
   ]
  },
  {
   "cell_type": "code",
   "execution_count": 15,
   "metadata": {},
   "outputs": [
    {
     "name": "stdout",
     "output_type": "stream",
     "text": [
      "With x = 2, theta0 = 1.0, theta1 = 1.0\n",
      "Predicted Hypothesis h(x) = 3.00\n",
      "Expected hypothesis h(x) = 3.00\n",
      "\n"
     ]
    }
   ],
   "source": [
    "h_x = predict(x=2, theta0=1.0, theta1=1.0)\n",
    "print('With x = 2, theta0 = 1.0, theta1 = 1.0\\nPredicted Hypothesis h(x) = %.2f' % h_x)\n",
    "print(\"Expected hypothesis h(x) = 3.00\\n\")"
   ]
  },
  {
   "cell_type": "markdown",
   "metadata": {},
   "source": [
    "As you perform gradient descent to learn minimize the cost function  $J(\\theta)$, it is helpful to monitor the convergence by computing the cost. In this section, you will implement a function to calculate  $J(\\theta)$ so you can check the convergence of your gradient descent implementation."
   ]
  },
  {
   "cell_type": "code",
   "execution_count": 16,
   "metadata": {},
   "outputs": [],
   "source": [
    "### GRADED FUNCTION ###\n",
    "def computeCost(X, Y, theta0, theta1):\n",
    "    '''\n",
    "    Computes cost for linear regression. Computes the cost of using `theta` as the\n",
    "    parameter for linear regression to fit the data points in `X` and `Y`.\n",
    "    \n",
    "    Arguments\n",
    "    ---------\n",
    "    X : array\n",
    "        The input dataset of shape (m, ), where m is the number of training examples.\n",
    "    \n",
    "    Y : array\n",
    "        The values of the function at each data point. This is a vector of\n",
    "        shape (m, ), where m is the number of training examples.\n",
    "    \n",
    "    theta0 : float\n",
    "        The parameter for the regression function.\n",
    "        \n",
    "    theta1 : float\n",
    "        The parameter for the regression function.\n",
    "    \n",
    "    Returns\n",
    "    -------\n",
    "    J : float\n",
    "        The value of the regression cost function.\n",
    "    \n",
    "    Hint(s)\n",
    "    -------\n",
    "    Compute equation (i).\n",
    "    '''\n",
    "    # initialize some useful values\n",
    "    m = Y.size  # number of training examples\n",
    "    \n",
    "    # You need to return the following variable(s) correctly\n",
    "    J = (np.mean((theta0 + theta1*X - Y)**2))/(2)\n",
    "        \n",
    "    ### START CODE HERE ### (≈ 3-4 lines of code)\n",
    "\n",
    "    \n",
    "    ### END CODE HERE ###\n",
    "    \n",
    "    return J"
   ]
  },
  {
   "cell_type": "markdown",
   "metadata": {},
   "source": [
    "Execute the next cell to verify your implementation."
   ]
  },
  {
   "cell_type": "code",
   "execution_count": 17,
   "metadata": {},
   "outputs": [
    {
     "name": "stdout",
     "output_type": "stream",
     "text": [
      "With theta0 = 1.0, theta1 = 1.0\n",
      "Predicted cost J = 10.27\n",
      "Expected cost J = 10.27\n",
      "\n"
     ]
    }
   ],
   "source": [
    "J = computeCost(X, Y, theta0=1.0, theta1=1.0)\n",
    "print('With theta0 = 1.0, theta1 = 1.0\\nPredicted cost J = %.2f' % J)\n",
    "print(\"Expected cost J = 10.27\\n\")"
   ]
  },
  {
   "cell_type": "markdown",
   "metadata": {},
   "source": [
    "Next, you will complete a function which implements gradient descent. The loop structure has been written for you, and you only need to supply the updates to parameters $\\theta_j$  within each iteration (epoch). \n",
    "\n",
    "The starter code for the function `gradientDescent` calls `computeCost` on every iteration and saves the cost to a `python` list. Assuming you have implemented `gradientDescent` and `computeCost` correctly, your value of $J(\\theta)$ should never increase, and should converge to a steady value by the end of the algorithm."
   ]
  },
  {
   "cell_type": "code",
   "execution_count": 20,
   "metadata": {},
   "outputs": [],
   "source": [
    "### GRADED FUNCTION ###\n",
    "def gradientDescent(X, Y, alpha, n_epoch):\n",
    "    \"\"\"\n",
    "    Performs gradient descent to learn `theta`. Updates `theta` by taking `n_epoch`\n",
    "    gradient steps with learning rate `alpha`.\n",
    "    \n",
    "    Arguments\n",
    "    ---------\n",
    "    X : array\n",
    "        The input dataset of shape (m, ), where m is the number of training examples.\n",
    "    \n",
    "    Y : array\n",
    "        The values of the function at each data point. This is a vector of\n",
    "        shape (m, ), where m is the number of training examples.\n",
    "    \n",
    "    alpha : float\n",
    "        The learning rate.\n",
    "    \n",
    "    n_epoch : int\n",
    "        The number of iterations for gradient descent. \n",
    "    \n",
    "    Returns\n",
    "    -------\n",
    "    theta0 : float\n",
    "        The parameter for the regression function.\n",
    "        \n",
    "    theta1 : float\n",
    "        The parameter for the regression function.\n",
    "    \n",
    "    J : list\n",
    "        A python list for the values of the cost function after each iteration.\n",
    "    \n",
    "    Hint(s)\n",
    "    -------\n",
    "    Compute equation (iii) and (iv).\n",
    "\n",
    "    While debugging, it can be useful to print out the values of \n",
    "    the cost function (computeCost) here.\n",
    "    \"\"\"\n",
    "    # initialize some useful values\n",
    "    m = Y.size  # number of training examples\n",
    "    J = list()  # list to store cost\n",
    "    \n",
    "    # You need to return the following variables correctly\n",
    "    theta0 = 0.0 \n",
    "    theta1 = 0.0\n",
    "    \n",
    "    for epoch in range(n_epoch):\n",
    "        \n",
    "        h_x = theta0 + theta1*X\n",
    "        \n",
    "        theta0 = theta0 - alpha* np.mean(h_x - Y)\n",
    "        theta1 = theta1 - alpha* np.mean(np.multiply(h_x - Y, X))\n",
    "\n",
    "        J.append(computeCost(X, Y, theta0, theta1))\n",
    "    return theta0, theta1, J"
   ]
  },
  {
   "cell_type": "markdown",
   "metadata": {},
   "source": [
    "Execute the next cell to verify your implementation."
   ]
  },
  {
   "cell_type": "code",
   "execution_count": 21,
   "metadata": {},
   "outputs": [
    {
     "name": "stdout",
     "output_type": "stream",
     "text": [
      "Predicted theta0 = -3.6303, theta1 = 1.1664, cost = 4.4834\n",
      "Expected theta0 = -3.6303, theta1 = 1.1664, cost = 4.4834\n"
     ]
    }
   ],
   "source": [
    "n_epoch = 1500\n",
    "alpha = 0.01\n",
    "\n",
    "theta0, theta1, J = gradientDescent(X ,Y, alpha, n_epoch)\n",
    "# print(theta0)\n",
    "# print(\"jhee\")\n",
    "print('Predicted theta0 = %.4f, theta1 = %.4f, cost = %.4f' % (theta0, theta1, J[-1]))\n",
    "print('Expected theta0 = -3.6303, theta1 = 1.1664, cost = 4.4834')"
   ]
  },
  {
   "cell_type": "markdown",
   "metadata": {},
   "source": [
    "### 1.4 Plot the linear fit\n",
    "\n",
    "Use your learned parameters $\\theta_j$ to plot the linear fit."
   ]
  },
  {
   "cell_type": "code",
   "execution_count": 22,
   "metadata": {},
   "outputs": [
    {
     "data": {
      "text/plain": [
       "<matplotlib.legend.Legend at 0x7f3b754ecba8>"
      ]
     },
     "execution_count": 22,
     "metadata": {},
     "output_type": "execute_result"
    },
    {
     "data": {
      "image/png": "[encoded data removed]",
      "text/plain": [
       "<Figure size 432x288 with 1 Axes>"
      ]
     },
     "metadata": {
      "needs_background": "light"
     },
     "output_type": "display_data"
    }
   ],
   "source": [
    "h_x = list()\n",
    "for x in X:\n",
    "    h_x.append(predict(x, theta0, theta1))\n",
    "pyplot.plot(X, Y, 'ro', ms=10, mec='k')\n",
    "pyplot.ylabel('Profit in $10,000')\n",
    "pyplot.xlabel('Population of City in 10,000s')\n",
    "pyplot.plot(X, h_x, '-')\n",
    "pyplot.legend(['Training data', 'Linear regression'])"
   ]
  },
  {
   "cell_type": "markdown",
   "metadata": {},
   "source": [
    "### 1.5 Make predictions\n",
    "\n",
    "Use your learned parameters $\\theta_j$ to make food truck profit predictions in areas with population of 40,000 and 65,000."
   ]
  },
  {
   "cell_type": "code",
   "execution_count": 23,
   "metadata": {},
   "outputs": [
    {
     "name": "stdout",
     "output_type": "stream",
     "text": [
      "For population = 40,000, predicted profit = $10351.58\n",
      "For population = 65,000, predicted profit = $39510.64\n"
     ]
    }
   ],
   "source": [
    "print('For population = 40,000, predicted profit = $%.2f' % (predict(4, theta0, theta1)*10000))\n",
    "print('For population = 65,000, predicted profit = $%.2f' % (predict(6.5, theta0, theta1)*10000))"
   ]
  },
  {
   "cell_type": "markdown",
   "metadata": {},
   "source": [
    "## 2. Multivariate Linear Regression\n",
    "\n",
    "Now, you will implement multivariate linear regression (from scratch) to predict the quality of white wine given its chemical measures. You are given with the dataset `Data/ex2data2.txt`. The dataset contains 11 input varibles and one output variable. Here is the description:\n",
    "\n",
    "- $x_1$ = Fixed acidity \n",
    "- $x_2$ = Volatile acidity \n",
    "- $x_3$ = Citric acid \n",
    "- $x_4$ = Residual sugar \n",
    "- $x_5$ = Chlorides \n",
    "- $x_6$ = Free sulfur dioxide \n",
    "- $x_7$ = Total sulfur dioxide \n",
    "- $x_8$ = Density \n",
    "- $x_9$ = pH \n",
    "- $x_{10}$ = Sulphates \n",
    "- $x_{11}$ = Alcohol \n",
    "- $y$ = Quality (score between 0 and 10)\n",
    "\n",
    "You have to follow exactly the same steps as above i.e. implement hypothesis, cost function and gradient descent for multivariate linear regression. Finally, predict the quality of following two wines using your learned parameters $\\theta$\n",
    "\n",
    "- $x_1$ = 5.5, $x_2$ = 0.29, $x_3$ = 0.3, $x_4$ = 1.1, $x_5$ = 0.022, $x_6$ = 20, $x_7$ = 110, $x_8$ = 0.98869, $x_9$ = 3.34, $x_{10}$ = 0.38, $x_{11}$ = 12.8\n",
    "- $x_1$ = 6, $x_2$ = 0.21, $x_3$ = 0.38, $x_4$ = 0.8, $x_5$ = 0.02, $x_6$ = 22, $x_7$ = 98, $x_8$ = 0.98941, $x_9$ = 3.26, $x_{10}$ = 0.32, $x_{11}$ = 11.8"
   ]
  },
  {
   "cell_type": "code",
   "execution_count": 39,
   "metadata": {},
   "outputs": [
    {
     "name": "stdout",
     "output_type": "stream",
     "text": [
      "(4896, 12)\n",
      "(4896, 11)\n",
      "(4896,)\n"
     ]
    }
   ],
   "source": [
    "'''Start your code here'''\n",
    "\n",
    "\n",
    "\n",
    "data = np.loadtxt(os.path.join('Data', 'ex2data2.txt'), delimiter=',')\n",
    "print(data.shape)\n",
    "X, Y = data[:, 0:-1], data[:, -1]\n",
    "print(X.shape)\n",
    "print(Y.shape)\n"
   ]
  },
  {
   "cell_type": "code",
   "execution_count": 40,
   "metadata": {},
   "outputs": [],
   "source": [
    "# print(X.shape)\n",
    "# print(Y.shape)\n",
    "# Y = np.transpose(Y)\n",
    "# X = np.transpose(X)\n",
    "# print(X.shape)\n",
    "# print(Y.shape)\n",
    "# Y=Y.reshape(1,4896)\n",
    "# # f =[]\n",
    "# # for i in Y:\n",
    "# #     f.append(i)\n",
    "# print(Y.shape)\n",
    "    "
   ]
  },
  {
   "cell_type": "code",
   "execution_count": 42,
   "metadata": {},
   "outputs": [],
   "source": [
    "### GRADED FUNCTION ###\n",
    "def predict(X, theta0, thetas):\n",
    "    h_x = theta0 + np.dot(X,thetas)    \n",
    "    return h_x"
   ]
  },
  {
   "cell_type": "code",
   "execution_count": 52,
   "metadata": {},
   "outputs": [],
   "source": [
    "### GRADED FUNCTION ###\n",
    "def computeCost(X, Y, theta0, thetas):\n",
    "    m = Y.size  # number of training examples\n",
    "    h_x = theta0 + np.dot(X,thetas)    \n",
    "    \n",
    "#     a = np.square(h_x - Y)\n",
    "    \n",
    "    J = (np.sum(np.square(h_x - Y)))/(2*m)\n",
    "    return J"
   ]
  },
  {
   "cell_type": "code",
   "execution_count": 53,
   "metadata": {},
   "outputs": [
    {
     "data": {
      "text/plain": [
       "17.665543300653596"
      ]
     },
     "execution_count": 53,
     "metadata": {},
     "output_type": "execute_result"
    }
   ],
   "source": [
    "computeCost(X,Y,0.0,np.zeros(X.shape[1]))"
   ]
  },
  {
   "cell_type": "code",
   "execution_count": 65,
   "metadata": {},
   "outputs": [],
   "source": [
    "### GRADED FUNCTION ###\n",
    "def gradientDescent(X, Y, alpha, n_epoch):\n",
    "    m = Y.size\n",
    "    J = list()  \n",
    "    theta0 = 0.0 \n",
    "    thetas = np.zeros(X.shape[1])\n",
    "    \n",
    "    for epoch in range(n_epoch):\n",
    "        h_x = theta0 + np.dot(X,thetas)\n",
    "        \n",
    "        theta0 = theta0 - alpha* np.mean(h_x - Y)\n",
    "        for i in range(X.shape[1]):\n",
    "            thetas[i] = thetas[i] - alpha* np.mean(np.multiply(h_x - Y, X[:,i]))\n",
    "\n",
    "        J.append(computeCost(X, Y, theta0, thetas))\n",
    "    return theta0, thetas, J"
   ]
  },
  {
   "cell_type": "code",
   "execution_count": 69,
   "metadata": {},
   "outputs": [
    {
     "name": "stdout",
     "output_type": "stream",
     "text": [
      "0.022299829674815697\n",
      "[0.13980922 0.00441539 0.00631512 0.00392106 0.00055625 0.01073195\n",
      " 0.00773937 0.02203395 0.07204813 0.01036381 0.28753823]\n",
      "0.4348447623896614\n"
     ]
    }
   ],
   "source": [
    "n_epoch = 1500\n",
    "alpha = 0.00005\n",
    "\n",
    "theta0, thetas, J = gradientDescent(X ,Y, alpha, n_epoch)\n",
    "print(theta0)\n",
    "print(thetas)\n",
    "print(J[-1])\n",
    "# print(\"jhee\")\n",
    "# print('Predicted theta0 = %.4f, theta1 = %.4f, cost = %.4f' % (theta0, thetas, J[-1]))\n",
    "# print('Expected theta0 = -3.6303, theta1 = 1.1664, cost = 4.4834')"
   ]
  },
  {
   "cell_type": "code",
   "execution_count": 70,
   "metadata": {},
   "outputs": [
    {
     "data": {
      "text/plain": [
       "5.811573737611167"
      ]
     },
     "execution_count": 70,
     "metadata": {},
     "output_type": "execute_result"
    }
   ],
   "source": [
    "𝑥1 = 5.5\n",
    "𝑥2 = 0.29\n",
    "𝑥3 = 0.3\n",
    "𝑥4 = 1.1\n",
    "𝑥5 = 0.022\n",
    "𝑥6 = 20\n",
    "𝑥7 = 110\n",
    "𝑥8 = 0.98869\n",
    "𝑥9 = 3.34\n",
    "𝑥10 = 0.38\n",
    "𝑥11 = 12.8\n",
    "tX = [x1, x2, x3, x4, x5, x6, x7, x8, x9, x10, x11]\n",
    "predict(tX, theta0, thetas)"
   ]
  },
  {
   "cell_type": "code",
   "execution_count": 71,
   "metadata": {},
   "outputs": [
    {
     "data": {
      "text/plain": [
       "5.515136327652072"
      ]
     },
     "execution_count": 71,
     "metadata": {},
     "output_type": "execute_result"
    }
   ],
   "source": [
    "# 𝑥4 = 0.8, 𝑥5 = 0.02, 𝑥6 = 22, 𝑥7 = 98, 𝑥8 = 0.98941, 𝑥9 = 3.26, 𝑥10 = 0.32, 𝑥11 = 11.8\n",
    "𝑥1 = 6\n",
    "𝑥2 = 0.21\n",
    "𝑥3 = 0.38\n",
    "𝑥4 = 0.8\n",
    "𝑥5 = 0.02\n",
    "𝑥6 = 22\n",
    "𝑥7 = 98\n",
    "𝑥8 = 0.98941\n",
    "𝑥9 = 3.26\n",
    "𝑥10 = 0.32\n",
    "𝑥11 = 11.8\n",
    "tX = [x1, x2, x3, x4, x5, x6, x7, x8, x9, x10, x11]\n",
    "predict(tX, theta0, thetas)"
   ]
  },
  {
   "cell_type": "code",
   "execution_count": null,
   "metadata": {},
   "outputs": [],
   "source": []
  },
  {
   "cell_type": "code",
   "execution_count": null,
   "metadata": {},
   "outputs": [],
   "source": []
  }
 ],
 "metadata": {
  "kernelspec": {
   "display_name": "Python 3",
   "language": "python",
   "name": "python3"
  },
  "language_info": {
   "codemirror_mode": {
    "name": "ipython",
    "version": 3
   },
   "file_extension": ".py",
   "mimetype": "text/x-python",
   "name": "python",
   "nbconvert_exporter": "python",
   "pygments_lexer": "ipython3",
   "version": "3.6.9"
  }
 },
 "nbformat": 4,
 "nbformat_minor": 2
}
